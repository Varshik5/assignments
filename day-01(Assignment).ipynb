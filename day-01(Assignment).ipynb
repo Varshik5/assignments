{
 "cells": [
  {
   "cell_type": "code",
   "execution_count": 11,
   "id": "a5b81610-813e-4e55-84e8-1608c7fce15a",
   "metadata": {},
   "outputs": [
    {
     "name": "stdout",
     "output_type": "stream",
     "text": [
      "Integer variable: 10 - Type: <class 'int'>\n",
      "Float variable: 3.14 - Type: <class 'float'>\n",
      "String variable: Hello, World! - Type: <class 'str'>\n",
      "Boolean variable: True - Type: <class 'bool'>\n"
     ]
    }
   ],
   "source": [
    "# Declare variables of different data types\n",
    "integer_variable = 10  # Integer\n",
    "float_variable = 3.14  # Float\n",
    "string_variable = \"Hello, World!\"  # String\n",
    "boolean_variable = True  # Boolean\n",
    "\n",
    "# Print each variable and its type\n",
    "print(\"Integer variable:\", integer_variable, \"- Type:\", type(integer_variable))\n",
    "print(\"Float variable:\", float_variable, \"- Type:\", type(float_variable))\n",
    "print(\"String variable:\", string_variable, \"- Type:\", type(string_variable))\n",
    "print(\"Boolean variable:\", boolean_variable, \"- Type:\", type(boolean_variable))"
   ]
  },
  {
   "cell_type": "code",
   "execution_count": null,
   "id": "a972ac05-0a6e-41a2-a3fe-0296134278d1",
   "metadata": {},
   "outputs": [],
   "source": []
  }
 ],
 "metadata": {
  "kernelspec": {
   "display_name": "Python [conda env:base] *",
   "language": "python",
   "name": "conda-base-py"
  },
  "language_info": {
   "codemirror_mode": {
    "name": "ipython",
    "version": 3
   },
   "file_extension": ".py",
   "mimetype": "text/x-python",
   "name": "python",
   "nbconvert_exporter": "python",
   "pygments_lexer": "ipython3",
   "version": "3.12.7"
  }
 },
 "nbformat": 4,
 "nbformat_minor": 5
}
