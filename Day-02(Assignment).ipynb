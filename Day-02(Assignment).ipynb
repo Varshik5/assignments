{
 "cells": [
  {
   "cell_type": "code",
   "execution_count": null,
   "id": "22d01b21-8e85-4149-b730-b63675333d45",
   "metadata": {},
   "outputs": [],
   "source": []
  }
 ],
 "metadata": {
  "kernelspec": {
   "display_name": "",
   "name": ""
  },
  "language_info": {
   "name": ""
  }
 },
 "nbformat": 4,
 "nbformat_minor": 5
}
