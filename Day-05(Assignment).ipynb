{
 "cells": [
  {
   "cell_type": "code",
   "execution_count": 2,
   "id": "5768431e-2e45-48e4-ba85-85711713296e",
   "metadata": {},
   "outputs": [
    {
     "name": "stdin",
     "output_type": "stream",
     "text": [
      "Enter a positive integer:  5\n"
     ]
    },
    {
     "name": "stdout",
     "output_type": "stream",
     "text": [
      "Numbers from 1 to 5 :\n",
      "1\n",
      "2\n",
      "3\n",
      "4\n",
      "5\n",
      "The sum of numbers from 1 to 5 is: 15\n"
     ]
    }
   ],
   "source": [
    "# Step 1: Ask the user to enter a positive integer\n",
    "n = int(input(\"Enter a positive integer: \"))\n",
    "\n",
    "# Step 2: Use a for loop to print all numbers from 1 to n\n",
    "print(\"Numbers from 1 to\", n, \":\")\n",
    "for i in range(1, n + 1):\n",
    "    print(i)\n",
    "\n",
    "# Step 3: Use a while loop to calculate the sum of all numbers from 1 to n\n",
    "total_sum = 0\n",
    "i = 1\n",
    "while i <= n:\n",
    "    total_sum += i\n",
    "    i += 1\n",
    "\n",
    "print(\"The sum of numbers from 1 to\", n, \"is:\", total_sum)"
   ]
  },
  {
   "cell_type": "code",
   "execution_count": null,
   "id": "2786b6c0-3680-4601-b46f-b8b66139478a",
   "metadata": {},
   "outputs": [],
   "source": [
    "def calculate_square(n):\n",
    "    \"\"\"\n",
    "    This function takes a single argument n and returns its square.\n",
    "    \"\"\"\n",
    "    return n ** 2\n",
    "\n",
    "# Main program\n",
    "def main():\n",
    "    try:\n",
    "        # Prompt the user for input\n",
    "        user_input = int(input(\"Enter a positive integer: \"))\n",
    "        \n",
    "        # Check if the input is positive\n",
    "        if user_input < 0:\n",
    "            print(\"Please enter a positive integer.\")\n",
    "        else:\n",
    "            # Call the function and display the result\n",
    "            result = calculate_square(user_input)\n",
    "            print(f\"The square of {user_input} is {result}.\")\n",
    "    except ValueError:\n",
    "        print(\"Invalid input. Please enter a valid positive integer.\")\n",
    "\n",
    "# Run the main function\n",
    "if __name__ == \"__main__\":\n",
    "    main()\n"
   ]
  }
 ],
 "metadata": {
  "kernelspec": {
   "display_name": "Python [conda env:base] *",
   "language": "python",
   "name": "conda-base-py"
  },
  "language_info": {
   "codemirror_mode": {
    "name": "ipython",
    "version": 3
   },
   "file_extension": ".py",
   "mimetype": "text/x-python",
   "name": "python",
   "nbconvert_exporter": "python",
   "pygments_lexer": "ipython3",
   "version": "3.12.7"
  }
 },
 "nbformat": 4,
 "nbformat_minor": 5
}
